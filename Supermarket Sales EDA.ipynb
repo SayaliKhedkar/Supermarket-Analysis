{
 "cells": [
  {
   "cell_type": "markdown",
   "id": "64ebab69",
   "metadata": {},
   "source": [
    "# Supermarket Analysis"
   ]
  },
  {
   "cell_type": "markdown",
   "id": "8ffdb798",
   "metadata": {},
   "source": [
    "## CONTENT\n",
    "- 1)Introduction to Data in the columns.\n",
    "- 2)Null Value and Reduction.\n",
    "- 3)Statistical Information\n",
    "- 4)Statistical Figures\n",
    "-   Mean, Median and Mode.\n",
    "- 5)Count Of Values\n",
    "- 6)Pivot Tables\n",
    "- 7)Cross Tabs\n",
    "- 8)Strip Plot\n",
    "- 9)Line Plot\n",
    "- 10)Categorical Plot[Catplot]\n",
    "- 11)Heat Map\n",
    "- 12)Box Plot\n",
    "- 13)KDE Plot\n",
    "- 14)Pie Plot\n",
    "- 15)Produc tline Analysis\n",
    "- 16)Conclusion"
   ]
  },
  {
   "cell_type": "code",
   "execution_count": 1,
   "id": "fc4940cd",
   "metadata": {},
   "outputs": [],
   "source": [
    "import pandas as pd\n",
    "import numpy as np\n",
    "import matplotlib.pyplot as plt\n",
    "import seaborn as sns\n",
    "import warnings\n",
    "warnings.filterwarnings('ignore')"
   ]
  },
  {
   "cell_type": "code",
   "execution_count": 2,
   "id": "ba1ddca5",
   "metadata": {},
   "outputs": [],
   "source": [
    "df=pd.read_csv('Supermarket sales.csv')"
   ]
  },
  {
   "cell_type": "code",
   "execution_count": 3,
   "id": "cb4ba1a4",
   "metadata": {},
   "outputs": [
    {
     "data": {
      "text/html": [
       "<div>\n",
       "<style scoped>\n",
       "    .dataframe tbody tr th:only-of-type {\n",
       "        vertical-align: middle;\n",
       "    }\n",
       "\n",
       "    .dataframe tbody tr th {\n",
       "        vertical-align: top;\n",
       "    }\n",
       "\n",
       "    .dataframe thead th {\n",
       "        text-align: right;\n",
       "    }\n",
       "</style>\n",
       "<table border=\"1\" class=\"dataframe\">\n",
       "  <thead>\n",
       "    <tr style=\"text-align: right;\">\n",
       "      <th></th>\n",
       "      <th>Invoice ID</th>\n",
       "      <th>Branch</th>\n",
       "      <th>City</th>\n",
       "      <th>Customer type</th>\n",
       "      <th>Gender</th>\n",
       "      <th>Product line</th>\n",
       "      <th>Unit price</th>\n",
       "      <th>Quantity</th>\n",
       "      <th>Tax 5%</th>\n",
       "      <th>Total</th>\n",
       "      <th>Date</th>\n",
       "      <th>Time</th>\n",
       "      <th>Payment</th>\n",
       "      <th>cogs</th>\n",
       "      <th>gross margin percentage</th>\n",
       "      <th>gross income</th>\n",
       "      <th>Rating</th>\n",
       "    </tr>\n",
       "  </thead>\n",
       "  <tbody>\n",
       "    <tr>\n",
       "      <th>0</th>\n",
       "      <td>750-67-8428</td>\n",
       "      <td>A</td>\n",
       "      <td>Yangon</td>\n",
       "      <td>Member</td>\n",
       "      <td>Female</td>\n",
       "      <td>Health and beauty</td>\n",
       "      <td>74.69</td>\n",
       "      <td>7</td>\n",
       "      <td>26.1415</td>\n",
       "      <td>548.9715</td>\n",
       "      <td>01-05-2019</td>\n",
       "      <td>13:08</td>\n",
       "      <td>Ewallet</td>\n",
       "      <td>522.83</td>\n",
       "      <td>4.761905</td>\n",
       "      <td>26.1415</td>\n",
       "      <td>9.1</td>\n",
       "    </tr>\n",
       "    <tr>\n",
       "      <th>1</th>\n",
       "      <td>226-31-3081</td>\n",
       "      <td>C</td>\n",
       "      <td>Naypyitaw</td>\n",
       "      <td>Normal</td>\n",
       "      <td>Female</td>\n",
       "      <td>Electronic accessories</td>\n",
       "      <td>15.28</td>\n",
       "      <td>5</td>\n",
       "      <td>3.8200</td>\n",
       "      <td>80.2200</td>\n",
       "      <td>03-08-2019</td>\n",
       "      <td>10:29</td>\n",
       "      <td>Cash</td>\n",
       "      <td>76.40</td>\n",
       "      <td>4.761905</td>\n",
       "      <td>3.8200</td>\n",
       "      <td>9.6</td>\n",
       "    </tr>\n",
       "    <tr>\n",
       "      <th>2</th>\n",
       "      <td>631-41-3108</td>\n",
       "      <td>A</td>\n",
       "      <td>Yangon</td>\n",
       "      <td>Normal</td>\n",
       "      <td>Male</td>\n",
       "      <td>Home and lifestyle</td>\n",
       "      <td>46.33</td>\n",
       "      <td>7</td>\n",
       "      <td>16.2155</td>\n",
       "      <td>340.5255</td>\n",
       "      <td>03-03-2019</td>\n",
       "      <td>13:23</td>\n",
       "      <td>Credit card</td>\n",
       "      <td>324.31</td>\n",
       "      <td>4.761905</td>\n",
       "      <td>16.2155</td>\n",
       "      <td>7.4</td>\n",
       "    </tr>\n",
       "    <tr>\n",
       "      <th>3</th>\n",
       "      <td>123-19-1176</td>\n",
       "      <td>A</td>\n",
       "      <td>Yangon</td>\n",
       "      <td>Member</td>\n",
       "      <td>Male</td>\n",
       "      <td>Health and beauty</td>\n",
       "      <td>58.22</td>\n",
       "      <td>8</td>\n",
       "      <td>23.2880</td>\n",
       "      <td>489.0480</td>\n",
       "      <td>1/27/2019</td>\n",
       "      <td>20:33</td>\n",
       "      <td>Ewallet</td>\n",
       "      <td>465.76</td>\n",
       "      <td>4.761905</td>\n",
       "      <td>23.2880</td>\n",
       "      <td>8.4</td>\n",
       "    </tr>\n",
       "    <tr>\n",
       "      <th>4</th>\n",
       "      <td>373-73-7910</td>\n",
       "      <td>A</td>\n",
       "      <td>Yangon</td>\n",
       "      <td>Normal</td>\n",
       "      <td>Male</td>\n",
       "      <td>Sports and travel</td>\n",
       "      <td>86.31</td>\n",
       "      <td>7</td>\n",
       "      <td>30.2085</td>\n",
       "      <td>634.3785</td>\n",
       "      <td>02-08-2019</td>\n",
       "      <td>10:37</td>\n",
       "      <td>Ewallet</td>\n",
       "      <td>604.17</td>\n",
       "      <td>4.761905</td>\n",
       "      <td>30.2085</td>\n",
       "      <td>5.3</td>\n",
       "    </tr>\n",
       "    <tr>\n",
       "      <th>...</th>\n",
       "      <td>...</td>\n",
       "      <td>...</td>\n",
       "      <td>...</td>\n",
       "      <td>...</td>\n",
       "      <td>...</td>\n",
       "      <td>...</td>\n",
       "      <td>...</td>\n",
       "      <td>...</td>\n",
       "      <td>...</td>\n",
       "      <td>...</td>\n",
       "      <td>...</td>\n",
       "      <td>...</td>\n",
       "      <td>...</td>\n",
       "      <td>...</td>\n",
       "      <td>...</td>\n",
       "      <td>...</td>\n",
       "      <td>...</td>\n",
       "    </tr>\n",
       "    <tr>\n",
       "      <th>995</th>\n",
       "      <td>233-67-5758</td>\n",
       "      <td>C</td>\n",
       "      <td>Naypyitaw</td>\n",
       "      <td>Normal</td>\n",
       "      <td>Male</td>\n",
       "      <td>Health and beauty</td>\n",
       "      <td>40.35</td>\n",
       "      <td>1</td>\n",
       "      <td>2.0175</td>\n",
       "      <td>42.3675</td>\n",
       "      <td>1/29/2019</td>\n",
       "      <td>13:46</td>\n",
       "      <td>Ewallet</td>\n",
       "      <td>40.35</td>\n",
       "      <td>4.761905</td>\n",
       "      <td>2.0175</td>\n",
       "      <td>6.2</td>\n",
       "    </tr>\n",
       "    <tr>\n",
       "      <th>996</th>\n",
       "      <td>303-96-2227</td>\n",
       "      <td>B</td>\n",
       "      <td>Mandalay</td>\n",
       "      <td>Normal</td>\n",
       "      <td>Female</td>\n",
       "      <td>Home and lifestyle</td>\n",
       "      <td>97.38</td>\n",
       "      <td>10</td>\n",
       "      <td>48.6900</td>\n",
       "      <td>1022.4900</td>\n",
       "      <td>03-02-2019</td>\n",
       "      <td>17:16</td>\n",
       "      <td>Ewallet</td>\n",
       "      <td>973.80</td>\n",
       "      <td>4.761905</td>\n",
       "      <td>48.6900</td>\n",
       "      <td>4.4</td>\n",
       "    </tr>\n",
       "    <tr>\n",
       "      <th>997</th>\n",
       "      <td>727-02-1313</td>\n",
       "      <td>A</td>\n",
       "      <td>Yangon</td>\n",
       "      <td>Member</td>\n",
       "      <td>Male</td>\n",
       "      <td>Food and beverages</td>\n",
       "      <td>31.84</td>\n",
       "      <td>1</td>\n",
       "      <td>1.5920</td>\n",
       "      <td>33.4320</td>\n",
       "      <td>02-09-2019</td>\n",
       "      <td>13:22</td>\n",
       "      <td>Cash</td>\n",
       "      <td>31.84</td>\n",
       "      <td>4.761905</td>\n",
       "      <td>1.5920</td>\n",
       "      <td>7.7</td>\n",
       "    </tr>\n",
       "    <tr>\n",
       "      <th>998</th>\n",
       "      <td>347-56-2442</td>\n",
       "      <td>A</td>\n",
       "      <td>Yangon</td>\n",
       "      <td>Normal</td>\n",
       "      <td>Male</td>\n",
       "      <td>Home and lifestyle</td>\n",
       "      <td>65.82</td>\n",
       "      <td>1</td>\n",
       "      <td>3.2910</td>\n",
       "      <td>69.1110</td>\n",
       "      <td>2/22/2019</td>\n",
       "      <td>15:33</td>\n",
       "      <td>Cash</td>\n",
       "      <td>65.82</td>\n",
       "      <td>4.761905</td>\n",
       "      <td>3.2910</td>\n",
       "      <td>4.1</td>\n",
       "    </tr>\n",
       "    <tr>\n",
       "      <th>999</th>\n",
       "      <td>849-09-3807</td>\n",
       "      <td>A</td>\n",
       "      <td>Yangon</td>\n",
       "      <td>Member</td>\n",
       "      <td>Female</td>\n",
       "      <td>Fashion accessories</td>\n",
       "      <td>88.34</td>\n",
       "      <td>7</td>\n",
       "      <td>30.9190</td>\n",
       "      <td>649.2990</td>\n",
       "      <td>2/18/2019</td>\n",
       "      <td>13:28</td>\n",
       "      <td>Cash</td>\n",
       "      <td>618.38</td>\n",
       "      <td>4.761905</td>\n",
       "      <td>30.9190</td>\n",
       "      <td>6.6</td>\n",
       "    </tr>\n",
       "  </tbody>\n",
       "</table>\n",
       "<p>1000 rows × 17 columns</p>\n",
       "</div>"
      ],
      "text/plain": [
       "      Invoice ID Branch       City Customer type  Gender  \\\n",
       "0    750-67-8428      A     Yangon        Member  Female   \n",
       "1    226-31-3081      C  Naypyitaw        Normal  Female   \n",
       "2    631-41-3108      A     Yangon        Normal    Male   \n",
       "3    123-19-1176      A     Yangon        Member    Male   \n",
       "4    373-73-7910      A     Yangon        Normal    Male   \n",
       "..           ...    ...        ...           ...     ...   \n",
       "995  233-67-5758      C  Naypyitaw        Normal    Male   \n",
       "996  303-96-2227      B   Mandalay        Normal  Female   \n",
       "997  727-02-1313      A     Yangon        Member    Male   \n",
       "998  347-56-2442      A     Yangon        Normal    Male   \n",
       "999  849-09-3807      A     Yangon        Member  Female   \n",
       "\n",
       "               Product line  Unit price  Quantity   Tax 5%      Total  \\\n",
       "0         Health and beauty       74.69         7  26.1415   548.9715   \n",
       "1    Electronic accessories       15.28         5   3.8200    80.2200   \n",
       "2        Home and lifestyle       46.33         7  16.2155   340.5255   \n",
       "3         Health and beauty       58.22         8  23.2880   489.0480   \n",
       "4         Sports and travel       86.31         7  30.2085   634.3785   \n",
       "..                      ...         ...       ...      ...        ...   \n",
       "995       Health and beauty       40.35         1   2.0175    42.3675   \n",
       "996      Home and lifestyle       97.38        10  48.6900  1022.4900   \n",
       "997      Food and beverages       31.84         1   1.5920    33.4320   \n",
       "998      Home and lifestyle       65.82         1   3.2910    69.1110   \n",
       "999     Fashion accessories       88.34         7  30.9190   649.2990   \n",
       "\n",
       "           Date   Time      Payment    cogs  gross margin percentage  \\\n",
       "0    01-05-2019  13:08      Ewallet  522.83                 4.761905   \n",
       "1    03-08-2019  10:29         Cash   76.40                 4.761905   \n",
       "2    03-03-2019  13:23  Credit card  324.31                 4.761905   \n",
       "3     1/27/2019  20:33      Ewallet  465.76                 4.761905   \n",
       "4    02-08-2019  10:37      Ewallet  604.17                 4.761905   \n",
       "..          ...    ...          ...     ...                      ...   \n",
       "995   1/29/2019  13:46      Ewallet   40.35                 4.761905   \n",
       "996  03-02-2019  17:16      Ewallet  973.80                 4.761905   \n",
       "997  02-09-2019  13:22         Cash   31.84                 4.761905   \n",
       "998   2/22/2019  15:33         Cash   65.82                 4.761905   \n",
       "999   2/18/2019  13:28         Cash  618.38                 4.761905   \n",
       "\n",
       "     gross income  Rating  \n",
       "0         26.1415     9.1  \n",
       "1          3.8200     9.6  \n",
       "2         16.2155     7.4  \n",
       "3         23.2880     8.4  \n",
       "4         30.2085     5.3  \n",
       "..            ...     ...  \n",
       "995        2.0175     6.2  \n",
       "996       48.6900     4.4  \n",
       "997        1.5920     7.7  \n",
       "998        3.2910     4.1  \n",
       "999       30.9190     6.6  \n",
       "\n",
       "[1000 rows x 17 columns]"
      ]
     },
     "execution_count": 3,
     "metadata": {},
     "output_type": "execute_result"
    }
   ],
   "source": [
    "df"
   ]
  },
  {
   "cell_type": "markdown",
   "id": "7bc63d12",
   "metadata": {},
   "source": [
    "### 1)Introduction to Dataset"
   ]
  },
  {
   "cell_type": "code",
   "execution_count": 4,
   "id": "fef5b1b8",
   "metadata": {},
   "outputs": [
    {
     "data": {
      "text/plain": [
       "Index(['Invoice ID', 'Branch', 'City', 'Customer type', 'Gender',\n",
       "       'Product line', 'Unit price', 'Quantity', 'Tax 5%', 'Total', 'Date',\n",
       "       'Time', 'Payment', 'cogs', 'gross margin percentage', 'gross income',\n",
       "       'Rating'],\n",
       "      dtype='object')"
      ]
     },
     "execution_count": 4,
     "metadata": {},
     "output_type": "execute_result"
    }
   ],
   "source": [
    "df.columns"
   ]
  },
  {
   "cell_type": "code",
   "execution_count": 5,
   "id": "2e3e004d",
   "metadata": {},
   "outputs": [
    {
     "name": "stdout",
     "output_type": "stream",
     "text": [
      "<class 'pandas.core.frame.DataFrame'>\n",
      "RangeIndex: 1000 entries, 0 to 999\n",
      "Data columns (total 17 columns):\n",
      " #   Column                   Non-Null Count  Dtype  \n",
      "---  ------                   --------------  -----  \n",
      " 0   Invoice ID               1000 non-null   object \n",
      " 1   Branch                   1000 non-null   object \n",
      " 2   City                     1000 non-null   object \n",
      " 3   Customer type            1000 non-null   object \n",
      " 4   Gender                   1000 non-null   object \n",
      " 5   Product line             1000 non-null   object \n",
      " 6   Unit price               1000 non-null   float64\n",
      " 7   Quantity                 1000 non-null   int64  \n",
      " 8   Tax 5%                   1000 non-null   float64\n",
      " 9   Total                    1000 non-null   float64\n",
      " 10  Date                     1000 non-null   object \n",
      " 11  Time                     1000 non-null   object \n",
      " 12  Payment                  1000 non-null   object \n",
      " 13  cogs                     1000 non-null   float64\n",
      " 14  gross margin percentage  1000 non-null   float64\n",
      " 15  gross income             1000 non-null   float64\n",
      " 16  Rating                   1000 non-null   float64\n",
      "dtypes: float64(7), int64(1), object(9)\n",
      "memory usage: 132.9+ KB\n"
     ]
    }
   ],
   "source": [
    "df.info()"
   ]
  },
  {
   "cell_type": "code",
   "execution_count": 6,
   "id": "c00d3dd6",
   "metadata": {},
   "outputs": [
    {
     "data": {
      "text/html": [
       "<div>\n",
       "<style scoped>\n",
       "    .dataframe tbody tr th:only-of-type {\n",
       "        vertical-align: middle;\n",
       "    }\n",
       "\n",
       "    .dataframe tbody tr th {\n",
       "        vertical-align: top;\n",
       "    }\n",
       "\n",
       "    .dataframe thead th {\n",
       "        text-align: right;\n",
       "    }\n",
       "</style>\n",
       "<table border=\"1\" class=\"dataframe\">\n",
       "  <thead>\n",
       "    <tr style=\"text-align: right;\">\n",
       "      <th></th>\n",
       "      <th>Unit price</th>\n",
       "      <th>Quantity</th>\n",
       "      <th>Tax 5%</th>\n",
       "      <th>Total</th>\n",
       "      <th>cogs</th>\n",
       "      <th>gross margin percentage</th>\n",
       "      <th>gross income</th>\n",
       "      <th>Rating</th>\n",
       "    </tr>\n",
       "  </thead>\n",
       "  <tbody>\n",
       "    <tr>\n",
       "      <th>count</th>\n",
       "      <td>1000.000000</td>\n",
       "      <td>1000.000000</td>\n",
       "      <td>1000.000000</td>\n",
       "      <td>1000.000000</td>\n",
       "      <td>1000.00000</td>\n",
       "      <td>1.000000e+03</td>\n",
       "      <td>1000.000000</td>\n",
       "      <td>1000.00000</td>\n",
       "    </tr>\n",
       "    <tr>\n",
       "      <th>mean</th>\n",
       "      <td>55.672130</td>\n",
       "      <td>5.510000</td>\n",
       "      <td>15.379369</td>\n",
       "      <td>322.966749</td>\n",
       "      <td>307.58738</td>\n",
       "      <td>4.761905e+00</td>\n",
       "      <td>15.379369</td>\n",
       "      <td>6.97270</td>\n",
       "    </tr>\n",
       "    <tr>\n",
       "      <th>std</th>\n",
       "      <td>26.494628</td>\n",
       "      <td>2.923431</td>\n",
       "      <td>11.708825</td>\n",
       "      <td>245.885335</td>\n",
       "      <td>234.17651</td>\n",
       "      <td>6.131498e-14</td>\n",
       "      <td>11.708825</td>\n",
       "      <td>1.71858</td>\n",
       "    </tr>\n",
       "    <tr>\n",
       "      <th>min</th>\n",
       "      <td>10.080000</td>\n",
       "      <td>1.000000</td>\n",
       "      <td>0.508500</td>\n",
       "      <td>10.678500</td>\n",
       "      <td>10.17000</td>\n",
       "      <td>4.761905e+00</td>\n",
       "      <td>0.508500</td>\n",
       "      <td>4.00000</td>\n",
       "    </tr>\n",
       "    <tr>\n",
       "      <th>25%</th>\n",
       "      <td>32.875000</td>\n",
       "      <td>3.000000</td>\n",
       "      <td>5.924875</td>\n",
       "      <td>124.422375</td>\n",
       "      <td>118.49750</td>\n",
       "      <td>4.761905e+00</td>\n",
       "      <td>5.924875</td>\n",
       "      <td>5.50000</td>\n",
       "    </tr>\n",
       "    <tr>\n",
       "      <th>50%</th>\n",
       "      <td>55.230000</td>\n",
       "      <td>5.000000</td>\n",
       "      <td>12.088000</td>\n",
       "      <td>253.848000</td>\n",
       "      <td>241.76000</td>\n",
       "      <td>4.761905e+00</td>\n",
       "      <td>12.088000</td>\n",
       "      <td>7.00000</td>\n",
       "    </tr>\n",
       "    <tr>\n",
       "      <th>75%</th>\n",
       "      <td>77.935000</td>\n",
       "      <td>8.000000</td>\n",
       "      <td>22.445250</td>\n",
       "      <td>471.350250</td>\n",
       "      <td>448.90500</td>\n",
       "      <td>4.761905e+00</td>\n",
       "      <td>22.445250</td>\n",
       "      <td>8.50000</td>\n",
       "    </tr>\n",
       "    <tr>\n",
       "      <th>max</th>\n",
       "      <td>99.960000</td>\n",
       "      <td>10.000000</td>\n",
       "      <td>49.650000</td>\n",
       "      <td>1042.650000</td>\n",
       "      <td>993.00000</td>\n",
       "      <td>4.761905e+00</td>\n",
       "      <td>49.650000</td>\n",
       "      <td>10.00000</td>\n",
       "    </tr>\n",
       "  </tbody>\n",
       "</table>\n",
       "</div>"
      ],
      "text/plain": [
       "        Unit price     Quantity       Tax 5%        Total        cogs  \\\n",
       "count  1000.000000  1000.000000  1000.000000  1000.000000  1000.00000   \n",
       "mean     55.672130     5.510000    15.379369   322.966749   307.58738   \n",
       "std      26.494628     2.923431    11.708825   245.885335   234.17651   \n",
       "min      10.080000     1.000000     0.508500    10.678500    10.17000   \n",
       "25%      32.875000     3.000000     5.924875   124.422375   118.49750   \n",
       "50%      55.230000     5.000000    12.088000   253.848000   241.76000   \n",
       "75%      77.935000     8.000000    22.445250   471.350250   448.90500   \n",
       "max      99.960000    10.000000    49.650000  1042.650000   993.00000   \n",
       "\n",
       "       gross margin percentage  gross income      Rating  \n",
       "count             1.000000e+03   1000.000000  1000.00000  \n",
       "mean              4.761905e+00     15.379369     6.97270  \n",
       "std               6.131498e-14     11.708825     1.71858  \n",
       "min               4.761905e+00      0.508500     4.00000  \n",
       "25%               4.761905e+00      5.924875     5.50000  \n",
       "50%               4.761905e+00     12.088000     7.00000  \n",
       "75%               4.761905e+00     22.445250     8.50000  \n",
       "max               4.761905e+00     49.650000    10.00000  "
      ]
     },
     "execution_count": 6,
     "metadata": {},
     "output_type": "execute_result"
    }
   ],
   "source": [
    "df.describe()"
   ]
  },
  {
   "cell_type": "code",
   "execution_count": 7,
   "id": "4746237d",
   "metadata": {},
   "outputs": [
    {
     "data": {
      "text/plain": [
       "Invoice ID                 1000\n",
       "Branch                        3\n",
       "City                          3\n",
       "Customer type                 2\n",
       "Gender                        2\n",
       "Product line                  6\n",
       "Unit price                  943\n",
       "Quantity                     10\n",
       "Tax 5%                      990\n",
       "Total                       990\n",
       "Date                         89\n",
       "Time                        506\n",
       "Payment                       3\n",
       "cogs                        990\n",
       "gross margin percentage       1\n",
       "gross income                990\n",
       "Rating                       61\n",
       "dtype: int64"
      ]
     },
     "execution_count": 7,
     "metadata": {},
     "output_type": "execute_result"
    }
   ],
   "source": [
    "df.nunique()"
   ]
  },
  {
   "cell_type": "markdown",
   "id": "c6102286",
   "metadata": {},
   "source": [
    "# 2) Null Values"
   ]
  },
  {
   "cell_type": "code",
   "execution_count": 8,
   "id": "34028e09",
   "metadata": {},
   "outputs": [
    {
     "data": {
      "text/plain": [
       "0"
      ]
     },
     "execution_count": 8,
     "metadata": {},
     "output_type": "execute_result"
    }
   ],
   "source": [
    "df.isnull().sum().sum()"
   ]
  },
  {
   "cell_type": "code",
   "execution_count": 32,
   "id": "43c6dfcd",
   "metadata": {},
   "outputs": [],
   "source": [
    "df.drop(['Branch'],axis=1,inplace=True)"
   ]
  },
  {
   "cell_type": "code",
   "execution_count": 33,
   "id": "5896f6ad",
   "metadata": {},
   "outputs": [
    {
     "data": {
      "text/html": [
       "<div>\n",
       "<style scoped>\n",
       "    .dataframe tbody tr th:only-of-type {\n",
       "        vertical-align: middle;\n",
       "    }\n",
       "\n",
       "    .dataframe tbody tr th {\n",
       "        vertical-align: top;\n",
       "    }\n",
       "\n",
       "    .dataframe thead th {\n",
       "        text-align: right;\n",
       "    }\n",
       "</style>\n",
       "<table border=\"1\" class=\"dataframe\">\n",
       "  <thead>\n",
       "    <tr style=\"text-align: right;\">\n",
       "      <th></th>\n",
       "      <th>Invoice ID</th>\n",
       "      <th>City</th>\n",
       "      <th>Customer type</th>\n",
       "      <th>Gender</th>\n",
       "      <th>Product line</th>\n",
       "      <th>Unit price</th>\n",
       "      <th>Quantity</th>\n",
       "      <th>Tax 5%</th>\n",
       "      <th>Total</th>\n",
       "      <th>Date</th>\n",
       "      <th>Payment</th>\n",
       "      <th>gross margin percentage</th>\n",
       "      <th>gross income</th>\n",
       "      <th>Rating</th>\n",
       "    </tr>\n",
       "  </thead>\n",
       "  <tbody>\n",
       "    <tr>\n",
       "      <th>0</th>\n",
       "      <td>750-67-8428</td>\n",
       "      <td>Yangon</td>\n",
       "      <td>Member</td>\n",
       "      <td>Female</td>\n",
       "      <td>Health and beauty</td>\n",
       "      <td>74.69</td>\n",
       "      <td>7</td>\n",
       "      <td>26.1415</td>\n",
       "      <td>548.9715</td>\n",
       "      <td>01-05-2019</td>\n",
       "      <td>Ewallet</td>\n",
       "      <td>4.761905</td>\n",
       "      <td>26.1415</td>\n",
       "      <td>9.1</td>\n",
       "    </tr>\n",
       "    <tr>\n",
       "      <th>1</th>\n",
       "      <td>226-31-3081</td>\n",
       "      <td>Naypyitaw</td>\n",
       "      <td>Normal</td>\n",
       "      <td>Female</td>\n",
       "      <td>Electronic accessories</td>\n",
       "      <td>15.28</td>\n",
       "      <td>5</td>\n",
       "      <td>3.8200</td>\n",
       "      <td>80.2200</td>\n",
       "      <td>03-08-2019</td>\n",
       "      <td>Cash</td>\n",
       "      <td>4.761905</td>\n",
       "      <td>3.8200</td>\n",
       "      <td>9.6</td>\n",
       "    </tr>\n",
       "    <tr>\n",
       "      <th>2</th>\n",
       "      <td>631-41-3108</td>\n",
       "      <td>Yangon</td>\n",
       "      <td>Normal</td>\n",
       "      <td>Male</td>\n",
       "      <td>Home and lifestyle</td>\n",
       "      <td>46.33</td>\n",
       "      <td>7</td>\n",
       "      <td>16.2155</td>\n",
       "      <td>340.5255</td>\n",
       "      <td>03-03-2019</td>\n",
       "      <td>Credit card</td>\n",
       "      <td>4.761905</td>\n",
       "      <td>16.2155</td>\n",
       "      <td>7.4</td>\n",
       "    </tr>\n",
       "    <tr>\n",
       "      <th>3</th>\n",
       "      <td>123-19-1176</td>\n",
       "      <td>Yangon</td>\n",
       "      <td>Member</td>\n",
       "      <td>Male</td>\n",
       "      <td>Health and beauty</td>\n",
       "      <td>58.22</td>\n",
       "      <td>8</td>\n",
       "      <td>23.2880</td>\n",
       "      <td>489.0480</td>\n",
       "      <td>1/27/2019</td>\n",
       "      <td>Ewallet</td>\n",
       "      <td>4.761905</td>\n",
       "      <td>23.2880</td>\n",
       "      <td>8.4</td>\n",
       "    </tr>\n",
       "    <tr>\n",
       "      <th>4</th>\n",
       "      <td>373-73-7910</td>\n",
       "      <td>Yangon</td>\n",
       "      <td>Normal</td>\n",
       "      <td>Male</td>\n",
       "      <td>Sports and travel</td>\n",
       "      <td>86.31</td>\n",
       "      <td>7</td>\n",
       "      <td>30.2085</td>\n",
       "      <td>634.3785</td>\n",
       "      <td>02-08-2019</td>\n",
       "      <td>Ewallet</td>\n",
       "      <td>4.761905</td>\n",
       "      <td>30.2085</td>\n",
       "      <td>5.3</td>\n",
       "    </tr>\n",
       "    <tr>\n",
       "      <th>...</th>\n",
       "      <td>...</td>\n",
       "      <td>...</td>\n",
       "      <td>...</td>\n",
       "      <td>...</td>\n",
       "      <td>...</td>\n",
       "      <td>...</td>\n",
       "      <td>...</td>\n",
       "      <td>...</td>\n",
       "      <td>...</td>\n",
       "      <td>...</td>\n",
       "      <td>...</td>\n",
       "      <td>...</td>\n",
       "      <td>...</td>\n",
       "      <td>...</td>\n",
       "    </tr>\n",
       "    <tr>\n",
       "      <th>995</th>\n",
       "      <td>233-67-5758</td>\n",
       "      <td>Naypyitaw</td>\n",
       "      <td>Normal</td>\n",
       "      <td>Male</td>\n",
       "      <td>Health and beauty</td>\n",
       "      <td>40.35</td>\n",
       "      <td>1</td>\n",
       "      <td>2.0175</td>\n",
       "      <td>42.3675</td>\n",
       "      <td>1/29/2019</td>\n",
       "      <td>Ewallet</td>\n",
       "      <td>4.761905</td>\n",
       "      <td>2.0175</td>\n",
       "      <td>6.2</td>\n",
       "    </tr>\n",
       "    <tr>\n",
       "      <th>996</th>\n",
       "      <td>303-96-2227</td>\n",
       "      <td>Mandalay</td>\n",
       "      <td>Normal</td>\n",
       "      <td>Female</td>\n",
       "      <td>Home and lifestyle</td>\n",
       "      <td>97.38</td>\n",
       "      <td>10</td>\n",
       "      <td>48.6900</td>\n",
       "      <td>1022.4900</td>\n",
       "      <td>03-02-2019</td>\n",
       "      <td>Ewallet</td>\n",
       "      <td>4.761905</td>\n",
       "      <td>48.6900</td>\n",
       "      <td>4.4</td>\n",
       "    </tr>\n",
       "    <tr>\n",
       "      <th>997</th>\n",
       "      <td>727-02-1313</td>\n",
       "      <td>Yangon</td>\n",
       "      <td>Member</td>\n",
       "      <td>Male</td>\n",
       "      <td>Food and beverages</td>\n",
       "      <td>31.84</td>\n",
       "      <td>1</td>\n",
       "      <td>1.5920</td>\n",
       "      <td>33.4320</td>\n",
       "      <td>02-09-2019</td>\n",
       "      <td>Cash</td>\n",
       "      <td>4.761905</td>\n",
       "      <td>1.5920</td>\n",
       "      <td>7.7</td>\n",
       "    </tr>\n",
       "    <tr>\n",
       "      <th>998</th>\n",
       "      <td>347-56-2442</td>\n",
       "      <td>Yangon</td>\n",
       "      <td>Normal</td>\n",
       "      <td>Male</td>\n",
       "      <td>Home and lifestyle</td>\n",
       "      <td>65.82</td>\n",
       "      <td>1</td>\n",
       "      <td>3.2910</td>\n",
       "      <td>69.1110</td>\n",
       "      <td>2/22/2019</td>\n",
       "      <td>Cash</td>\n",
       "      <td>4.761905</td>\n",
       "      <td>3.2910</td>\n",
       "      <td>4.1</td>\n",
       "    </tr>\n",
       "    <tr>\n",
       "      <th>999</th>\n",
       "      <td>849-09-3807</td>\n",
       "      <td>Yangon</td>\n",
       "      <td>Member</td>\n",
       "      <td>Female</td>\n",
       "      <td>Fashion accessories</td>\n",
       "      <td>88.34</td>\n",
       "      <td>7</td>\n",
       "      <td>30.9190</td>\n",
       "      <td>649.2990</td>\n",
       "      <td>2/18/2019</td>\n",
       "      <td>Cash</td>\n",
       "      <td>4.761905</td>\n",
       "      <td>30.9190</td>\n",
       "      <td>6.6</td>\n",
       "    </tr>\n",
       "  </tbody>\n",
       "</table>\n",
       "<p>1000 rows × 14 columns</p>\n",
       "</div>"
      ],
      "text/plain": [
       "      Invoice ID       City Customer type  Gender            Product line  \\\n",
       "0    750-67-8428     Yangon        Member  Female       Health and beauty   \n",
       "1    226-31-3081  Naypyitaw        Normal  Female  Electronic accessories   \n",
       "2    631-41-3108     Yangon        Normal    Male      Home and lifestyle   \n",
       "3    123-19-1176     Yangon        Member    Male       Health and beauty   \n",
       "4    373-73-7910     Yangon        Normal    Male       Sports and travel   \n",
       "..           ...        ...           ...     ...                     ...   \n",
       "995  233-67-5758  Naypyitaw        Normal    Male       Health and beauty   \n",
       "996  303-96-2227   Mandalay        Normal  Female      Home and lifestyle   \n",
       "997  727-02-1313     Yangon        Member    Male      Food and beverages   \n",
       "998  347-56-2442     Yangon        Normal    Male      Home and lifestyle   \n",
       "999  849-09-3807     Yangon        Member  Female     Fashion accessories   \n",
       "\n",
       "     Unit price  Quantity   Tax 5%      Total        Date      Payment  \\\n",
       "0         74.69         7  26.1415   548.9715  01-05-2019      Ewallet   \n",
       "1         15.28         5   3.8200    80.2200  03-08-2019         Cash   \n",
       "2         46.33         7  16.2155   340.5255  03-03-2019  Credit card   \n",
       "3         58.22         8  23.2880   489.0480   1/27/2019      Ewallet   \n",
       "4         86.31         7  30.2085   634.3785  02-08-2019      Ewallet   \n",
       "..          ...       ...      ...        ...         ...          ...   \n",
       "995       40.35         1   2.0175    42.3675   1/29/2019      Ewallet   \n",
       "996       97.38        10  48.6900  1022.4900  03-02-2019      Ewallet   \n",
       "997       31.84         1   1.5920    33.4320  02-09-2019         Cash   \n",
       "998       65.82         1   3.2910    69.1110   2/22/2019         Cash   \n",
       "999       88.34         7  30.9190   649.2990   2/18/2019         Cash   \n",
       "\n",
       "     gross margin percentage  gross income  Rating  \n",
       "0                   4.761905       26.1415     9.1  \n",
       "1                   4.761905        3.8200     9.6  \n",
       "2                   4.761905       16.2155     7.4  \n",
       "3                   4.761905       23.2880     8.4  \n",
       "4                   4.761905       30.2085     5.3  \n",
       "..                       ...           ...     ...  \n",
       "995                 4.761905        2.0175     6.2  \n",
       "996                 4.761905       48.6900     4.4  \n",
       "997                 4.761905        1.5920     7.7  \n",
       "998                 4.761905        3.2910     4.1  \n",
       "999                 4.761905       30.9190     6.6  \n",
       "\n",
       "[1000 rows x 14 columns]"
      ]
     },
     "execution_count": 33,
     "metadata": {},
     "output_type": "execute_result"
    }
   ],
   "source": [
    "df"
   ]
  },
  {
   "cell_type": "markdown",
   "id": "6d630571",
   "metadata": {},
   "source": [
    "- In dataset for dimensionality reduction we drop time and cogs for better readability and for analysis"
   ]
  },
  {
   "cell_type": "markdown",
   "id": "1e8ccf83",
   "metadata": {},
   "source": [
    "## 3) Statistical Information"
   ]
  },
  {
   "cell_type": "markdown",
   "id": "1243c1b8",
   "metadata": {},
   "source": [
    "### Correlation"
   ]
  },
  {
   "cell_type": "markdown",
   "id": "cfbaa2e5",
   "metadata": {},
   "source": [
    "- It is relation between two groups or two column or feature\n",
    " - Relation between +1 to -1"
   ]
  },
  {
   "cell_type": "code",
   "execution_count": 36,
   "id": "6d4279dd",
   "metadata": {},
   "outputs": [
    {
     "data": {
      "text/html": [
       "<div>\n",
       "<style scoped>\n",
       "    .dataframe tbody tr th:only-of-type {\n",
       "        vertical-align: middle;\n",
       "    }\n",
       "\n",
       "    .dataframe tbody tr th {\n",
       "        vertical-align: top;\n",
       "    }\n",
       "\n",
       "    .dataframe thead th {\n",
       "        text-align: right;\n",
       "    }\n",
       "</style>\n",
       "<table border=\"1\" class=\"dataframe\">\n",
       "  <thead>\n",
       "    <tr style=\"text-align: right;\">\n",
       "      <th></th>\n",
       "      <th>Unit price</th>\n",
       "      <th>Quantity</th>\n",
       "      <th>Tax 5%</th>\n",
       "      <th>Total</th>\n",
       "      <th>gross margin percentage</th>\n",
       "      <th>gross income</th>\n",
       "      <th>Rating</th>\n",
       "    </tr>\n",
       "  </thead>\n",
       "  <tbody>\n",
       "    <tr>\n",
       "      <th>Unit price</th>\n",
       "      <td>1.000000</td>\n",
       "      <td>0.010778</td>\n",
       "      <td>0.633962</td>\n",
       "      <td>0.633962</td>\n",
       "      <td>NaN</td>\n",
       "      <td>0.633962</td>\n",
       "      <td>-0.008778</td>\n",
       "    </tr>\n",
       "    <tr>\n",
       "      <th>Quantity</th>\n",
       "      <td>0.010778</td>\n",
       "      <td>1.000000</td>\n",
       "      <td>0.705510</td>\n",
       "      <td>0.705510</td>\n",
       "      <td>NaN</td>\n",
       "      <td>0.705510</td>\n",
       "      <td>-0.015815</td>\n",
       "    </tr>\n",
       "    <tr>\n",
       "      <th>Tax 5%</th>\n",
       "      <td>0.633962</td>\n",
       "      <td>0.705510</td>\n",
       "      <td>1.000000</td>\n",
       "      <td>1.000000</td>\n",
       "      <td>NaN</td>\n",
       "      <td>1.000000</td>\n",
       "      <td>-0.036442</td>\n",
       "    </tr>\n",
       "    <tr>\n",
       "      <th>Total</th>\n",
       "      <td>0.633962</td>\n",
       "      <td>0.705510</td>\n",
       "      <td>1.000000</td>\n",
       "      <td>1.000000</td>\n",
       "      <td>NaN</td>\n",
       "      <td>1.000000</td>\n",
       "      <td>-0.036442</td>\n",
       "    </tr>\n",
       "    <tr>\n",
       "      <th>gross margin percentage</th>\n",
       "      <td>NaN</td>\n",
       "      <td>NaN</td>\n",
       "      <td>NaN</td>\n",
       "      <td>NaN</td>\n",
       "      <td>NaN</td>\n",
       "      <td>NaN</td>\n",
       "      <td>NaN</td>\n",
       "    </tr>\n",
       "    <tr>\n",
       "      <th>gross income</th>\n",
       "      <td>0.633962</td>\n",
       "      <td>0.705510</td>\n",
       "      <td>1.000000</td>\n",
       "      <td>1.000000</td>\n",
       "      <td>NaN</td>\n",
       "      <td>1.000000</td>\n",
       "      <td>-0.036442</td>\n",
       "    </tr>\n",
       "    <tr>\n",
       "      <th>Rating</th>\n",
       "      <td>-0.008778</td>\n",
       "      <td>-0.015815</td>\n",
       "      <td>-0.036442</td>\n",
       "      <td>-0.036442</td>\n",
       "      <td>NaN</td>\n",
       "      <td>-0.036442</td>\n",
       "      <td>1.000000</td>\n",
       "    </tr>\n",
       "  </tbody>\n",
       "</table>\n",
       "</div>"
      ],
      "text/plain": [
       "                         Unit price  Quantity    Tax 5%     Total  \\\n",
       "Unit price                 1.000000  0.010778  0.633962  0.633962   \n",
       "Quantity                   0.010778  1.000000  0.705510  0.705510   \n",
       "Tax 5%                     0.633962  0.705510  1.000000  1.000000   \n",
       "Total                      0.633962  0.705510  1.000000  1.000000   \n",
       "gross margin percentage         NaN       NaN       NaN       NaN   \n",
       "gross income               0.633962  0.705510  1.000000  1.000000   \n",
       "Rating                    -0.008778 -0.015815 -0.036442 -0.036442   \n",
       "\n",
       "                         gross margin percentage  gross income    Rating  \n",
       "Unit price                                   NaN      0.633962 -0.008778  \n",
       "Quantity                                     NaN      0.705510 -0.015815  \n",
       "Tax 5%                                       NaN      1.000000 -0.036442  \n",
       "Total                                        NaN      1.000000 -0.036442  \n",
       "gross margin percentage                      NaN           NaN       NaN  \n",
       "gross income                                 NaN      1.000000 -0.036442  \n",
       "Rating                                       NaN     -0.036442  1.000000  "
      ]
     },
     "execution_count": 36,
     "metadata": {},
     "output_type": "execute_result"
    }
   ],
   "source": [
    "df.corr()"
   ]
  },
  {
   "cell_type": "markdown",
   "id": "89211520",
   "metadata": {},
   "source": [
    "### Covariance"
   ]
  },
  {
   "cell_type": "markdown",
   "id": "a69e74e5",
   "metadata": {},
   "source": [
    "- Covariance provides the measure of strength of correlation between two variable or more set of variable\n",
    "- The mean of each variable is used as referance and relative position of observations compared to mean is important."
   ]
  },
  {
   "cell_type": "code",
   "execution_count": 37,
   "id": "fc2d4808",
   "metadata": {},
   "outputs": [
    {
     "data": {
      "text/html": [
       "<div>\n",
       "<style scoped>\n",
       "    .dataframe tbody tr th:only-of-type {\n",
       "        vertical-align: middle;\n",
       "    }\n",
       "\n",
       "    .dataframe tbody tr th {\n",
       "        vertical-align: top;\n",
       "    }\n",
       "\n",
       "    .dataframe thead th {\n",
       "        text-align: right;\n",
       "    }\n",
       "</style>\n",
       "<table border=\"1\" class=\"dataframe\">\n",
       "  <thead>\n",
       "    <tr style=\"text-align: right;\">\n",
       "      <th></th>\n",
       "      <th>Unit price</th>\n",
       "      <th>Quantity</th>\n",
       "      <th>Tax 5%</th>\n",
       "      <th>Total</th>\n",
       "      <th>gross margin percentage</th>\n",
       "      <th>gross income</th>\n",
       "      <th>Rating</th>\n",
       "    </tr>\n",
       "  </thead>\n",
       "  <tbody>\n",
       "    <tr>\n",
       "      <th>Unit price</th>\n",
       "      <td>701.965331</td>\n",
       "      <td>0.834778</td>\n",
       "      <td>196.668340</td>\n",
       "      <td>4130.035142</td>\n",
       "      <td>0.0</td>\n",
       "      <td>196.668340</td>\n",
       "      <td>-0.399668</td>\n",
       "    </tr>\n",
       "    <tr>\n",
       "      <th>Quantity</th>\n",
       "      <td>0.834778</td>\n",
       "      <td>8.546446</td>\n",
       "      <td>24.149570</td>\n",
       "      <td>507.140978</td>\n",
       "      <td>0.0</td>\n",
       "      <td>24.149570</td>\n",
       "      <td>-0.079456</td>\n",
       "    </tr>\n",
       "    <tr>\n",
       "      <th>Tax 5%</th>\n",
       "      <td>196.668340</td>\n",
       "      <td>24.149570</td>\n",
       "      <td>137.096594</td>\n",
       "      <td>2879.028477</td>\n",
       "      <td>0.0</td>\n",
       "      <td>137.096594</td>\n",
       "      <td>-0.733300</td>\n",
       "    </tr>\n",
       "    <tr>\n",
       "      <th>Total</th>\n",
       "      <td>4130.035142</td>\n",
       "      <td>507.140978</td>\n",
       "      <td>2879.028477</td>\n",
       "      <td>60459.598018</td>\n",
       "      <td>0.0</td>\n",
       "      <td>2879.028477</td>\n",
       "      <td>-15.399306</td>\n",
       "    </tr>\n",
       "    <tr>\n",
       "      <th>gross margin percentage</th>\n",
       "      <td>0.000000</td>\n",
       "      <td>0.000000</td>\n",
       "      <td>0.000000</td>\n",
       "      <td>0.000000</td>\n",
       "      <td>0.0</td>\n",
       "      <td>0.000000</td>\n",
       "      <td>0.000000</td>\n",
       "    </tr>\n",
       "    <tr>\n",
       "      <th>gross income</th>\n",
       "      <td>196.668340</td>\n",
       "      <td>24.149570</td>\n",
       "      <td>137.096594</td>\n",
       "      <td>2879.028477</td>\n",
       "      <td>0.0</td>\n",
       "      <td>137.096594</td>\n",
       "      <td>-0.733300</td>\n",
       "    </tr>\n",
       "    <tr>\n",
       "      <th>Rating</th>\n",
       "      <td>-0.399668</td>\n",
       "      <td>-0.079456</td>\n",
       "      <td>-0.733300</td>\n",
       "      <td>-15.399306</td>\n",
       "      <td>0.0</td>\n",
       "      <td>-0.733300</td>\n",
       "      <td>2.953518</td>\n",
       "    </tr>\n",
       "  </tbody>\n",
       "</table>\n",
       "</div>"
      ],
      "text/plain": [
       "                          Unit price    Quantity       Tax 5%         Total  \\\n",
       "Unit price                701.965331    0.834778   196.668340   4130.035142   \n",
       "Quantity                    0.834778    8.546446    24.149570    507.140978   \n",
       "Tax 5%                    196.668340   24.149570   137.096594   2879.028477   \n",
       "Total                    4130.035142  507.140978  2879.028477  60459.598018   \n",
       "gross margin percentage     0.000000    0.000000     0.000000      0.000000   \n",
       "gross income              196.668340   24.149570   137.096594   2879.028477   \n",
       "Rating                     -0.399668   -0.079456    -0.733300    -15.399306   \n",
       "\n",
       "                         gross margin percentage  gross income     Rating  \n",
       "Unit price                                   0.0    196.668340  -0.399668  \n",
       "Quantity                                     0.0     24.149570  -0.079456  \n",
       "Tax 5%                                       0.0    137.096594  -0.733300  \n",
       "Total                                        0.0   2879.028477 -15.399306  \n",
       "gross margin percentage                      0.0      0.000000   0.000000  \n",
       "gross income                                 0.0    137.096594  -0.733300  \n",
       "Rating                                       0.0     -0.733300   2.953518  "
      ]
     },
     "execution_count": 37,
     "metadata": {},
     "output_type": "execute_result"
    }
   ],
   "source": [
    "df.cov()"
   ]
  },
  {
   "cell_type": "markdown",
   "id": "ae20c908",
   "metadata": {},
   "source": [
    "### Standard Deviation"
   ]
  },
  {
   "cell_type": "markdown",
   "id": "d18559da",
   "metadata": {},
   "source": [
    "- A quantity expressing by how much the members of group differ from the mean value for group.\n",
    "- The standard deviation is used in conjuction with the mean to summarise continous data,not categorical data"
   ]
  },
  {
   "cell_type": "code",
   "execution_count": 38,
   "id": "ffe924ec",
   "metadata": {},
   "outputs": [
    {
     "data": {
      "text/plain": [
       "Unit price                 2.649463e+01\n",
       "Quantity                   2.923431e+00\n",
       "Tax 5%                     1.170883e+01\n",
       "Total                      2.458853e+02\n",
       "gross margin percentage    6.131498e-14\n",
       "gross income               1.170883e+01\n",
       "Rating                     1.718580e+00\n",
       "dtype: float64"
      ]
     },
     "execution_count": 38,
     "metadata": {},
     "output_type": "execute_result"
    }
   ],
   "source": [
    "df.std()"
   ]
  },
  {
   "cell_type": "markdown",
   "id": "537ef577",
   "metadata": {},
   "source": [
    "### 4)Statistical Figures"
   ]
  },
  {
   "cell_type": "markdown",
   "id": "433c51aa",
   "metadata": {},
   "source": [
    "- A statistic or sample statistic is any quantity computed from values in sample which is considered for a statistical\n",
    "- Statistical purposes include estimating a population parameter."
   ]
  },
  {
   "cell_type": "code",
   "execution_count": 39,
   "id": "cd043dd7",
   "metadata": {},
   "outputs": [
    {
     "data": {
      "text/plain": [
       "1000"
      ]
     },
     "execution_count": 39,
     "metadata": {},
     "output_type": "execute_result"
    }
   ],
   "source": [
    "df['Quantity'].count()"
   ]
  },
  {
   "cell_type": "markdown",
   "id": "c0bc7820",
   "metadata": {},
   "source": [
    "- count : the quantity of iteams placed"
   ]
  },
  {
   "cell_type": "code",
   "execution_count": 40,
   "id": "98a2abcc",
   "metadata": {},
   "outputs": [
    {
     "data": {
      "text/plain": [
       "5.51"
      ]
     },
     "execution_count": 40,
     "metadata": {},
     "output_type": "execute_result"
    }
   ],
   "source": [
    "df['Quantity'].mean()"
   ]
  },
  {
   "cell_type": "markdown",
   "id": "180617af",
   "metadata": {},
   "source": [
    "- Mean : avg of quantity"
   ]
  },
  {
   "cell_type": "code",
   "execution_count": 41,
   "id": "75565da3",
   "metadata": {},
   "outputs": [
    {
     "data": {
      "text/plain": [
       "10"
      ]
     },
     "execution_count": 41,
     "metadata": {},
     "output_type": "execute_result"
    }
   ],
   "source": [
    "df['Quantity'].max()"
   ]
  },
  {
   "cell_type": "code",
   "execution_count": 42,
   "id": "d3aaf208",
   "metadata": {},
   "outputs": [
    {
     "data": {
      "text/plain": [
       "1"
      ]
     },
     "execution_count": 42,
     "metadata": {},
     "output_type": "execute_result"
    }
   ],
   "source": [
    "df['Quantity'].min()"
   ]
  },
  {
   "cell_type": "code",
   "execution_count": 43,
   "id": "6825301b",
   "metadata": {},
   "outputs": [
    {
     "data": {
      "text/plain": [
       "5.0"
      ]
     },
     "execution_count": 43,
     "metadata": {},
     "output_type": "execute_result"
    }
   ],
   "source": [
    "df['Quantity'].median()"
   ]
  },
  {
   "cell_type": "code",
   "execution_count": 44,
   "id": "0a7fb922",
   "metadata": {},
   "outputs": [
    {
     "data": {
      "text/plain": [
       "0    10\n",
       "Name: Quantity, dtype: int64"
      ]
     },
     "execution_count": 44,
     "metadata": {},
     "output_type": "execute_result"
    }
   ],
   "source": [
    "df['Quantity'].mode()"
   ]
  },
  {
   "cell_type": "code",
   "execution_count": 45,
   "id": "b8eac4d2",
   "metadata": {},
   "outputs": [
    {
     "data": {
      "text/plain": [
       "Fashion accessories       178\n",
       "Food and beverages        174\n",
       "Electronic accessories    170\n",
       "Sports and travel         166\n",
       "Home and lifestyle        160\n",
       "Health and beauty         152\n",
       "Name: Product line, dtype: int64"
      ]
     },
     "execution_count": 45,
     "metadata": {},
     "output_type": "execute_result"
    }
   ],
   "source": [
    "df['Product line'].value_counts()"
   ]
  },
  {
   "cell_type": "code",
   "execution_count": 46,
   "id": "3ead5d53",
   "metadata": {},
   "outputs": [
    {
     "data": {
      "text/plain": [
       "2.923430595455697"
      ]
     },
     "execution_count": 46,
     "metadata": {},
     "output_type": "execute_result"
    }
   ],
   "source": [
    "df['Quantity'].std()"
   ]
  },
  {
   "cell_type": "markdown",
   "id": "d1e2c2ee",
   "metadata": {},
   "source": [
    "### 5) Count of values"
   ]
  },
  {
   "cell_type": "code",
   "execution_count": 47,
   "id": "7c24df4c",
   "metadata": {},
   "outputs": [
    {
     "data": {
      "text/plain": [
       "Member    501\n",
       "Normal    499\n",
       "Name: Customer type, dtype: int64"
      ]
     },
     "execution_count": 47,
     "metadata": {},
     "output_type": "execute_result"
    }
   ],
   "source": [
    "df['Customer type'].value_counts()"
   ]
  },
  {
   "cell_type": "code",
   "execution_count": 48,
   "id": "fcac1db6",
   "metadata": {},
   "outputs": [
    {
     "data": {
      "text/plain": [
       "Ewallet        345\n",
       "Cash           344\n",
       "Credit card    311\n",
       "Name: Payment, dtype: int64"
      ]
     },
     "execution_count": 48,
     "metadata": {},
     "output_type": "execute_result"
    }
   ],
   "source": [
    "df['Payment'].value_counts()"
   ]
  },
  {
   "cell_type": "markdown",
   "id": "665bbefe",
   "metadata": {},
   "source": [
    "### 6)Pivot Tables"
   ]
  },
  {
   "cell_type": "code",
   "execution_count": 49,
   "id": "d81e46b1",
   "metadata": {},
   "outputs": [],
   "source": [
    "PV1=pd.pivot_table(df,values='Unit price', index=['Date'],columns=['Gender'], aggfunc=np.sum)"
   ]
  },
  {
   "cell_type": "code",
   "execution_count": 50,
   "id": "a36a6554",
   "metadata": {},
   "outputs": [
    {
     "data": {
      "text/html": [
       "<div>\n",
       "<style scoped>\n",
       "    .dataframe tbody tr th:only-of-type {\n",
       "        vertical-align: middle;\n",
       "    }\n",
       "\n",
       "    .dataframe tbody tr th {\n",
       "        vertical-align: top;\n",
       "    }\n",
       "\n",
       "    .dataframe thead th {\n",
       "        text-align: right;\n",
       "    }\n",
       "</style>\n",
       "<table border=\"1\" class=\"dataframe\">\n",
       "  <thead>\n",
       "    <tr style=\"text-align: right;\">\n",
       "      <th>Gender</th>\n",
       "      <th>Female</th>\n",
       "      <th>Male</th>\n",
       "    </tr>\n",
       "    <tr>\n",
       "      <th>Date</th>\n",
       "      <th></th>\n",
       "      <th></th>\n",
       "    </tr>\n",
       "  </thead>\n",
       "  <tbody>\n",
       "    <tr>\n",
       "      <th>01-01-2019</th>\n",
       "      <td>455.76</td>\n",
       "      <td>204.19</td>\n",
       "    </tr>\n",
       "    <tr>\n",
       "      <th>01-02-2019</th>\n",
       "      <td>65.88</td>\n",
       "      <td>291.20</td>\n",
       "    </tr>\n",
       "    <tr>\n",
       "      <th>01-03-2019</th>\n",
       "      <td>174.39</td>\n",
       "      <td>301.27</td>\n",
       "    </tr>\n",
       "    <tr>\n",
       "      <th>01-04-2019</th>\n",
       "      <td>170.90</td>\n",
       "      <td>139.56</td>\n",
       "    </tr>\n",
       "    <tr>\n",
       "      <th>01-05-2019</th>\n",
       "      <td>578.87</td>\n",
       "      <td>160.77</td>\n",
       "    </tr>\n",
       "    <tr>\n",
       "      <th>...</th>\n",
       "      <td>...</td>\n",
       "      <td>...</td>\n",
       "    </tr>\n",
       "    <tr>\n",
       "      <th>3/26/2019</th>\n",
       "      <td>216.12</td>\n",
       "      <td>342.52</td>\n",
       "    </tr>\n",
       "    <tr>\n",
       "      <th>3/27/2019</th>\n",
       "      <td>161.03</td>\n",
       "      <td>407.38</td>\n",
       "    </tr>\n",
       "    <tr>\n",
       "      <th>3/28/2019</th>\n",
       "      <td>309.55</td>\n",
       "      <td>145.70</td>\n",
       "    </tr>\n",
       "    <tr>\n",
       "      <th>3/29/2019</th>\n",
       "      <td>143.80</td>\n",
       "      <td>386.97</td>\n",
       "    </tr>\n",
       "    <tr>\n",
       "      <th>3/30/2019</th>\n",
       "      <td>311.27</td>\n",
       "      <td>430.22</td>\n",
       "    </tr>\n",
       "  </tbody>\n",
       "</table>\n",
       "<p>89 rows × 2 columns</p>\n",
       "</div>"
      ],
      "text/plain": [
       "Gender      Female    Male\n",
       "Date                      \n",
       "01-01-2019  455.76  204.19\n",
       "01-02-2019   65.88  291.20\n",
       "01-03-2019  174.39  301.27\n",
       "01-04-2019  170.90  139.56\n",
       "01-05-2019  578.87  160.77\n",
       "...            ...     ...\n",
       "3/26/2019   216.12  342.52\n",
       "3/27/2019   161.03  407.38\n",
       "3/28/2019   309.55  145.70\n",
       "3/29/2019   143.80  386.97\n",
       "3/30/2019   311.27  430.22\n",
       "\n",
       "[89 rows x 2 columns]"
      ]
     },
     "execution_count": 50,
     "metadata": {},
     "output_type": "execute_result"
    }
   ],
   "source": [
    "PV1"
   ]
  },
  {
   "cell_type": "markdown",
   "id": "b0e48b55",
   "metadata": {},
   "source": [
    "- Genderwise products unit price sold on that date."
   ]
  },
  {
   "cell_type": "code",
   "execution_count": 51,
   "id": "f4a6ad7f",
   "metadata": {},
   "outputs": [
    {
     "data": {
      "text/html": [
       "<div>\n",
       "<style scoped>\n",
       "    .dataframe tbody tr th:only-of-type {\n",
       "        vertical-align: middle;\n",
       "    }\n",
       "\n",
       "    .dataframe tbody tr th {\n",
       "        vertical-align: top;\n",
       "    }\n",
       "\n",
       "    .dataframe thead th {\n",
       "        text-align: right;\n",
       "    }\n",
       "</style>\n",
       "<table border=\"1\" class=\"dataframe\">\n",
       "  <thead>\n",
       "    <tr style=\"text-align: right;\">\n",
       "      <th></th>\n",
       "      <th></th>\n",
       "      <th>Quantity</th>\n",
       "    </tr>\n",
       "    <tr>\n",
       "      <th>Product line</th>\n",
       "      <th>Gender</th>\n",
       "      <th></th>\n",
       "    </tr>\n",
       "  </thead>\n",
       "  <tbody>\n",
       "    <tr>\n",
       "      <th rowspan=\"2\" valign=\"top\">Electronic accessories</th>\n",
       "      <th>Female</th>\n",
       "      <td>10</td>\n",
       "    </tr>\n",
       "    <tr>\n",
       "      <th>Male</th>\n",
       "      <td>10</td>\n",
       "    </tr>\n",
       "    <tr>\n",
       "      <th rowspan=\"2\" valign=\"top\">Fashion accessories</th>\n",
       "      <th>Female</th>\n",
       "      <td>10</td>\n",
       "    </tr>\n",
       "    <tr>\n",
       "      <th>Male</th>\n",
       "      <td>10</td>\n",
       "    </tr>\n",
       "    <tr>\n",
       "      <th rowspan=\"2\" valign=\"top\">Food and beverages</th>\n",
       "      <th>Female</th>\n",
       "      <td>10</td>\n",
       "    </tr>\n",
       "    <tr>\n",
       "      <th>Male</th>\n",
       "      <td>10</td>\n",
       "    </tr>\n",
       "    <tr>\n",
       "      <th rowspan=\"2\" valign=\"top\">Health and beauty</th>\n",
       "      <th>Female</th>\n",
       "      <td>10</td>\n",
       "    </tr>\n",
       "    <tr>\n",
       "      <th>Male</th>\n",
       "      <td>10</td>\n",
       "    </tr>\n",
       "    <tr>\n",
       "      <th rowspan=\"2\" valign=\"top\">Home and lifestyle</th>\n",
       "      <th>Female</th>\n",
       "      <td>10</td>\n",
       "    </tr>\n",
       "    <tr>\n",
       "      <th>Male</th>\n",
       "      <td>10</td>\n",
       "    </tr>\n",
       "    <tr>\n",
       "      <th rowspan=\"2\" valign=\"top\">Sports and travel</th>\n",
       "      <th>Female</th>\n",
       "      <td>10</td>\n",
       "    </tr>\n",
       "    <tr>\n",
       "      <th>Male</th>\n",
       "      <td>10</td>\n",
       "    </tr>\n",
       "  </tbody>\n",
       "</table>\n",
       "</div>"
      ],
      "text/plain": [
       "                               Quantity\n",
       "Product line           Gender          \n",
       "Electronic accessories Female        10\n",
       "                       Male          10\n",
       "Fashion accessories    Female        10\n",
       "                       Male          10\n",
       "Food and beverages     Female        10\n",
       "                       Male          10\n",
       "Health and beauty      Female        10\n",
       "                       Male          10\n",
       "Home and lifestyle     Female        10\n",
       "                       Male          10\n",
       "Sports and travel      Female        10\n",
       "                       Male          10"
      ]
     },
     "execution_count": 51,
     "metadata": {},
     "output_type": "execute_result"
    }
   ],
   "source": [
    "df_category_profit=pd.pivot_table(data=df[['Product line','Gender','Quantity']],index=['Product line','Gender'],values='Quantity',aggfunc='max')\n",
    "df_category_profit"
   ]
  },
  {
   "cell_type": "markdown",
   "id": "3189a8f5",
   "metadata": {},
   "source": [
    "### 7)Crosstab"
   ]
  },
  {
   "cell_type": "code",
   "execution_count": 52,
   "id": "eca08fc2",
   "metadata": {},
   "outputs": [
    {
     "data": {
      "text/html": [
       "<div>\n",
       "<style scoped>\n",
       "    .dataframe tbody tr th:only-of-type {\n",
       "        vertical-align: middle;\n",
       "    }\n",
       "\n",
       "    .dataframe tbody tr th {\n",
       "        vertical-align: top;\n",
       "    }\n",
       "\n",
       "    .dataframe thead th {\n",
       "        text-align: right;\n",
       "    }\n",
       "</style>\n",
       "<table border=\"1\" class=\"dataframe\">\n",
       "  <thead>\n",
       "    <tr style=\"text-align: right;\">\n",
       "      <th>City</th>\n",
       "      <th>Mandalay</th>\n",
       "      <th>Naypyitaw</th>\n",
       "      <th>Yangon</th>\n",
       "    </tr>\n",
       "    <tr>\n",
       "      <th>Product line</th>\n",
       "      <th></th>\n",
       "      <th></th>\n",
       "      <th></th>\n",
       "    </tr>\n",
       "  </thead>\n",
       "  <tbody>\n",
       "    <tr>\n",
       "      <th>Electronic accessories</th>\n",
       "      <td>55</td>\n",
       "      <td>55</td>\n",
       "      <td>60</td>\n",
       "    </tr>\n",
       "    <tr>\n",
       "      <th>Fashion accessories</th>\n",
       "      <td>62</td>\n",
       "      <td>65</td>\n",
       "      <td>51</td>\n",
       "    </tr>\n",
       "    <tr>\n",
       "      <th>Food and beverages</th>\n",
       "      <td>50</td>\n",
       "      <td>66</td>\n",
       "      <td>58</td>\n",
       "    </tr>\n",
       "    <tr>\n",
       "      <th>Health and beauty</th>\n",
       "      <td>53</td>\n",
       "      <td>52</td>\n",
       "      <td>47</td>\n",
       "    </tr>\n",
       "    <tr>\n",
       "      <th>Home and lifestyle</th>\n",
       "      <td>50</td>\n",
       "      <td>45</td>\n",
       "      <td>65</td>\n",
       "    </tr>\n",
       "    <tr>\n",
       "      <th>Sports and travel</th>\n",
       "      <td>62</td>\n",
       "      <td>45</td>\n",
       "      <td>59</td>\n",
       "    </tr>\n",
       "  </tbody>\n",
       "</table>\n",
       "</div>"
      ],
      "text/plain": [
       "City                    Mandalay  Naypyitaw  Yangon\n",
       "Product line                                       \n",
       "Electronic accessories        55         55      60\n",
       "Fashion accessories           62         65      51\n",
       "Food and beverages            50         66      58\n",
       "Health and beauty             53         52      47\n",
       "Home and lifestyle            50         45      65\n",
       "Sports and travel             62         45      59"
      ]
     },
     "execution_count": 52,
     "metadata": {},
     "output_type": "execute_result"
    }
   ],
   "source": [
    "pd.crosstab(df[\"Product line\"],df[\"City\"])"
   ]
  },
  {
   "cell_type": "markdown",
   "id": "53f9bc91",
   "metadata": {},
   "source": [
    "- Table showing the relationship between two or more variable. where the table only shows the relationship between two categorical variables, a crosstab is also known as contingency table.\n",
    "- It helps us to make informed desicion regarsing your research by identifying patterns,trends,and the correlation between your study parameters"
   ]
  },
  {
   "cell_type": "markdown",
   "id": "b639f061",
   "metadata": {},
   "source": [
    "## Data Visualization"
   ]
  },
  {
   "cell_type": "markdown",
   "id": "30b8e79f",
   "metadata": {},
   "source": [
    "### 8) Strip Plot\n",
    "- A strip plot is very simple to understand. It is basically a scatter plot that differentiates different categories."
   ]
  },
  {
   "cell_type": "code",
   "execution_count": 54,
   "id": "5dd7cf6f",
   "metadata": {},
   "outputs": [
    {
     "data": {
      "image/png": "[encoded data removed]",
      "text/plain": [
       "<Figure size 432x288 with 1 Axes>"
      ]
     },
     "metadata": {},
     "output_type": "display_data"
    }
   ],
   "source": [
    "sns.set_style('darkgrid')\n",
    "sns.stripplot(x='Quantity',y='Product line',hue='Product line',data=df)\n",
    "plt.show()"
   ]
  },
  {
   "cell_type": "markdown",
   "id": "ef2b313b",
   "metadata": {},
   "source": [
    "- plot shows the Quantity wise product diffrentiation in strip plot."
   ]
  },
  {
   "cell_type": "markdown",
   "id": "90f7faa3",
   "metadata": {},
   "source": [
    "- In Dataset all produduct line has same Quantity."
   ]
  },
  {
   "cell_type": "markdown",
   "id": "0e68cdc5",
   "metadata": {},
   "source": [
    "### 9)Lineplot\n",
    "- Line Plots depict the relationship between continuous as well as categorical values in a continuous data point format."
   ]
  },
  {
   "cell_type": "code",
   "execution_count": 57,
   "id": "cd9e2b24",
   "metadata": {},
   "outputs": [
    {
     "data": {
      "image/png": "[encoded data removed]",
      "text/plain": [
       "<Figure size 432x288 with 1 Axes>"
      ]
     },
     "metadata": {},
     "output_type": "display_data"
    }
   ],
   "source": [
    "sns.lineplot(x='Product line',y='Total',hue='Gender',data=df)\n",
    "plt.xticks(rotation=60)\n",
    "plt.show()"
   ]
  },
  {
   "cell_type": "markdown",
   "id": "1f8c4ebb",
   "metadata": {},
   "source": [
    "- plot shows productline and gender wise scope of product which shows female has highest product offer is of home and lifestyle,and male section shows health and beauty as highest range of products"
   ]
  },
  {
   "cell_type": "markdown",
   "id": "378942a2",
   "metadata": {},
   "source": [
    "### 10)Categorical plot\n",
    "- It is the factor plot() produce a stripplot as default plot type"
   ]
  },
  {
   "cell_type": "code",
   "execution_count": 58,
   "id": "beba73fe",
   "metadata": {},
   "outputs": [
    {
     "data": {
      "image/png": "[encoded data removed]",
      "text/plain": [
       "<Figure size 360x360 with 1 Axes>"
      ]
     },
     "metadata": {},
     "output_type": "display_data"
    }
   ],
   "source": [
    "sns.catplot(x='Product line',y='Total',kind='boxen',palette='coolwarm',data=df)\n",
    "plt.xticks(rotation=45)\n",
    "plt.show()"
   ]
  },
  {
   "cell_type": "markdown",
   "id": "e7ffd5e7",
   "metadata": {},
   "source": [
    "-  Plots shows product line and Total sale in catplot.\n",
    "-  There is outlier occurs in given dataset.\n",
    "-  By observation we see that sports and travel product has highest total."
   ]
  },
  {
   "cell_type": "markdown",
   "id": "33c0842d",
   "metadata": {},
   "source": [
    "### 11)Heat Map\n",
    "- Heat Maps is to better visualize the volume of locations/events within a dataset and assist in directing viewers towards areas on data visualizations that matter most."
   ]
  },
  {
   "cell_type": "code",
   "execution_count": 61,
   "id": "8f610ccf",
   "metadata": {},
   "outputs": [
    {
     "data": {
      "image/png": "[encoded data removed]",
      "text/plain": [
       "<Figure size 576x864 with 2 Axes>"
      ]
     },
     "metadata": {},
     "output_type": "display_data"
    }
   ],
   "source": [
    "df_corr=df.corr()\n",
    "plt.figure(figsize=(8,12))\n",
    "sns.heatmap(df_corr,annot=True)\n",
    "plt.show()"
   ]
  },
  {
   "cell_type": "markdown",
   "id": "f4d28aec",
   "metadata": {},
   "source": [
    "\n",
    "- In the plot it shows the correlation between the all attributes in the dataset.\n",
    "- By the observation we see attribute who scores +1 having strong relation between elements."
   ]
  },
  {
   "cell_type": "markdown",
   "id": "26e8382b",
   "metadata": {},
   "source": [
    "### 12)Barplot(Seaborn library)\n",
    "- A bar chart or bar graph is a chart or graph that presents categorical data with rectangular bars with heights or lengths proportional to the values that they represent"
   ]
  },
  {
   "cell_type": "code",
   "execution_count": 62,
   "id": "db4f066f",
   "metadata": {},
   "outputs": [
    {
     "data": {
      "image/png": "[encoded data removed]",
      "text/plain": [
       "<Figure size 864x576 with 1 Axes>"
      ]
     },
     "metadata": {},
     "output_type": "display_data"
    }
   ],
   "source": [
    "plt.figure(figsize=(12,8))\n",
    "sns.barplot(x='City',y='Quantity',hue='Customer type',palette='coolwarm_r',data=df)\n",
    "plt.xlabel('City',fontsize=12)\n",
    "plt.show()\n"
   ]
  },
  {
   "cell_type": "markdown",
   "id": "d63d8df0",
   "metadata": {},
   "source": [
    "- Given graph shows product Quantity according to city and categorized the customer type.\n",
    "- Naypyitaw city has highest Quantity of product for normal customer type."
   ]
  },
  {
   "cell_type": "code",
   "execution_count": 72,
   "id": "3a7be9d3",
   "metadata": {},
   "outputs": [
    {
     "data": {
      "image/png": "[encoded data removed]",
      "text/plain": [
       "<Figure size 576x360 with 1 Axes>"
      ]
     },
     "metadata": {},
     "output_type": "display_data"
    }
   ],
   "source": [
    "df.groupby('Gender')[['Unit price','Quantity']].sum().plot.bar(color=['red','blue'],figsize=(8,5))\n",
    "plt.ylabel('Unit price and Quantity')\n",
    "plt.show()"
   ]
  },
  {
   "cell_type": "markdown",
   "id": "6efb9e54",
   "metadata": {},
   "source": [
    "### 13)KDE Plot\n",
    "- Kdeplot is a Kernel Distribution Estimation Plot which depicts the probability density function of the continuous or non-parametric data variables"
   ]
  },
  {
   "cell_type": "code",
   "execution_count": 80,
   "id": "11761ec8",
   "metadata": {},
   "outputs": [
    {
     "data": {
      "image/png": "[encoded data removed]",
      "text/plain": [
       "<Figure size 432x288 with 1 Axes>"
      ]
     },
     "metadata": {},
     "output_type": "display_data"
    }
   ],
   "source": [
    "sns.kdeplot(df['Quantity'],df['gross income'],color='red',shade=True)\n",
    "plt.show()"
   ]
  },
  {
   "cell_type": "markdown",
   "id": "29d47cb0",
   "metadata": {},
   "source": [
    "- kdeplot checks quantity wise gross income in data\n",
    "- In quantity of product from 0 to 4 shows the highest gross income."
   ]
  },
  {
   "cell_type": "markdown",
   "id": "e028b571",
   "metadata": {},
   "source": [
    "### 14) Pie Plot\n",
    "- Pie chart show the distribution of the product category.\n",
    "- It shows the Accessories has the highest portion acquired."
   ]
  },
  {
   "cell_type": "code",
   "execution_count": 82,
   "id": "49cf9b42",
   "metadata": {},
   "outputs": [
    {
     "data": {
      "image/png": "[encoded data removed]",
      "text/plain": [
       "<Figure size 432x288 with 1 Axes>"
      ]
     },
     "metadata": {},
     "output_type": "display_data"
    }
   ],
   "source": [
    "plt.title('Product line',fontsize=20)\n",
    "df['Product line'].value_counts().plot.pie(autopct='%1.1f%%',shadow=True)\n",
    "plt.show()"
   ]
  },
  {
   "cell_type": "markdown",
   "id": "1d81b759",
   "metadata": {},
   "source": [
    "- Above plot shows Fashion accessories has highest protion acquired."
   ]
  },
  {
   "cell_type": "markdown",
   "id": "dd6c0a69",
   "metadata": {},
   "source": [
    "### 15)Product line analysis"
   ]
  },
  {
   "cell_type": "code",
   "execution_count": 85,
   "id": "383fe3e8",
   "metadata": {},
   "outputs": [
    {
     "data": {
      "text/html": [
       "<div>\n",
       "<style scoped>\n",
       "    .dataframe tbody tr th:only-of-type {\n",
       "        vertical-align: middle;\n",
       "    }\n",
       "\n",
       "    .dataframe tbody tr th {\n",
       "        vertical-align: top;\n",
       "    }\n",
       "\n",
       "    .dataframe thead th {\n",
       "        text-align: right;\n",
       "    }\n",
       "</style>\n",
       "<table border=\"1\" class=\"dataframe\">\n",
       "  <thead>\n",
       "    <tr style=\"text-align: right;\">\n",
       "      <th>Gender</th>\n",
       "      <th>Female</th>\n",
       "      <th>Male</th>\n",
       "    </tr>\n",
       "    <tr>\n",
       "      <th>Date</th>\n",
       "      <th></th>\n",
       "      <th></th>\n",
       "    </tr>\n",
       "  </thead>\n",
       "  <tbody>\n",
       "    <tr>\n",
       "      <th>01-01-2019</th>\n",
       "      <td>NaN</td>\n",
       "      <td>8.0</td>\n",
       "    </tr>\n",
       "    <tr>\n",
       "      <th>01-03-2019</th>\n",
       "      <td>11.0</td>\n",
       "      <td>NaN</td>\n",
       "    </tr>\n",
       "    <tr>\n",
       "      <th>01-04-2019</th>\n",
       "      <td>10.0</td>\n",
       "      <td>NaN</td>\n",
       "    </tr>\n",
       "    <tr>\n",
       "      <th>01-05-2019</th>\n",
       "      <td>14.0</td>\n",
       "      <td>8.0</td>\n",
       "    </tr>\n",
       "    <tr>\n",
       "      <th>01-06-2019</th>\n",
       "      <td>NaN</td>\n",
       "      <td>12.0</td>\n",
       "    </tr>\n",
       "    <tr>\n",
       "      <th>...</th>\n",
       "      <td>...</td>\n",
       "      <td>...</td>\n",
       "    </tr>\n",
       "    <tr>\n",
       "      <th>3/24/2019</th>\n",
       "      <td>6.0</td>\n",
       "      <td>11.0</td>\n",
       "    </tr>\n",
       "    <tr>\n",
       "      <th>3/26/2019</th>\n",
       "      <td>9.0</td>\n",
       "      <td>NaN</td>\n",
       "    </tr>\n",
       "    <tr>\n",
       "      <th>3/27/2019</th>\n",
       "      <td>NaN</td>\n",
       "      <td>2.0</td>\n",
       "    </tr>\n",
       "    <tr>\n",
       "      <th>3/29/2019</th>\n",
       "      <td>3.0</td>\n",
       "      <td>NaN</td>\n",
       "    </tr>\n",
       "    <tr>\n",
       "      <th>3/30/2019</th>\n",
       "      <td>6.0</td>\n",
       "      <td>NaN</td>\n",
       "    </tr>\n",
       "  </tbody>\n",
       "</table>\n",
       "<p>75 rows × 2 columns</p>\n",
       "</div>"
      ],
      "text/plain": [
       "Gender      Female  Male\n",
       "Date                    \n",
       "01-01-2019     NaN   8.0\n",
       "01-03-2019    11.0   NaN\n",
       "01-04-2019    10.0   NaN\n",
       "01-05-2019    14.0   8.0\n",
       "01-06-2019     NaN  12.0\n",
       "...            ...   ...\n",
       "3/24/2019      6.0  11.0\n",
       "3/26/2019      9.0   NaN\n",
       "3/27/2019      NaN   2.0\n",
       "3/29/2019      3.0   NaN\n",
       "3/30/2019      6.0   NaN\n",
       "\n",
       "[75 rows x 2 columns]"
      ]
     },
     "execution_count": 85,
     "metadata": {},
     "output_type": "execute_result"
    }
   ],
   "source": [
    "a_df = df.loc[df['City']=='City']\n",
    "a_Home= df.loc[df['Product line']=='Home and lifestyle']\n",
    "a_Home1 = pd.pivot_table(a_Home, values='Quantity', index=['Date'],\n",
    "                    columns=['Gender'], aggfunc=np.sum)\n",
    "a_Home1"
   ]
  },
  {
   "cell_type": "code",
   "execution_count": 86,
   "id": "09f8a9f1",
   "metadata": {},
   "outputs": [
    {
     "data": {
      "text/html": [
       "<div>\n",
       "<style scoped>\n",
       "    .dataframe tbody tr th:only-of-type {\n",
       "        vertical-align: middle;\n",
       "    }\n",
       "\n",
       "    .dataframe tbody tr th {\n",
       "        vertical-align: top;\n",
       "    }\n",
       "\n",
       "    .dataframe thead th {\n",
       "        text-align: right;\n",
       "    }\n",
       "</style>\n",
       "<table border=\"1\" class=\"dataframe\">\n",
       "  <thead>\n",
       "    <tr style=\"text-align: right;\">\n",
       "      <th>Gender</th>\n",
       "      <th>Female</th>\n",
       "      <th>Male</th>\n",
       "    </tr>\n",
       "    <tr>\n",
       "      <th>Date</th>\n",
       "      <th></th>\n",
       "      <th></th>\n",
       "    </tr>\n",
       "  </thead>\n",
       "  <tbody>\n",
       "    <tr>\n",
       "      <th>01-01-2019</th>\n",
       "      <td>9.0</td>\n",
       "      <td>NaN</td>\n",
       "    </tr>\n",
       "    <tr>\n",
       "      <th>01-02-2019</th>\n",
       "      <td>NaN</td>\n",
       "      <td>11.0</td>\n",
       "    </tr>\n",
       "    <tr>\n",
       "      <th>01-04-2019</th>\n",
       "      <td>4.0</td>\n",
       "      <td>NaN</td>\n",
       "    </tr>\n",
       "    <tr>\n",
       "      <th>01-05-2019</th>\n",
       "      <td>5.0</td>\n",
       "      <td>6.0</td>\n",
       "    </tr>\n",
       "    <tr>\n",
       "      <th>01-06-2019</th>\n",
       "      <td>11.0</td>\n",
       "      <td>NaN</td>\n",
       "    </tr>\n",
       "    <tr>\n",
       "      <th>...</th>\n",
       "      <td>...</td>\n",
       "      <td>...</td>\n",
       "    </tr>\n",
       "    <tr>\n",
       "      <th>3/25/2019</th>\n",
       "      <td>NaN</td>\n",
       "      <td>5.0</td>\n",
       "    </tr>\n",
       "    <tr>\n",
       "      <th>3/26/2019</th>\n",
       "      <td>NaN</td>\n",
       "      <td>5.0</td>\n",
       "    </tr>\n",
       "    <tr>\n",
       "      <th>3/27/2019</th>\n",
       "      <td>NaN</td>\n",
       "      <td>9.0</td>\n",
       "    </tr>\n",
       "    <tr>\n",
       "      <th>3/28/2019</th>\n",
       "      <td>10.0</td>\n",
       "      <td>NaN</td>\n",
       "    </tr>\n",
       "    <tr>\n",
       "      <th>3/30/2019</th>\n",
       "      <td>8.0</td>\n",
       "      <td>NaN</td>\n",
       "    </tr>\n",
       "  </tbody>\n",
       "</table>\n",
       "<p>77 rows × 2 columns</p>\n",
       "</div>"
      ],
      "text/plain": [
       "Gender      Female  Male\n",
       "Date                    \n",
       "01-01-2019     9.0   NaN\n",
       "01-02-2019     NaN  11.0\n",
       "01-04-2019     4.0   NaN\n",
       "01-05-2019     5.0   6.0\n",
       "01-06-2019    11.0   NaN\n",
       "...            ...   ...\n",
       "3/25/2019      NaN   5.0\n",
       "3/26/2019      NaN   5.0\n",
       "3/27/2019      NaN   9.0\n",
       "3/28/2019     10.0   NaN\n",
       "3/30/2019      8.0   NaN\n",
       "\n",
       "[77 rows x 2 columns]"
      ]
     },
     "execution_count": 86,
     "metadata": {},
     "output_type": "execute_result"
    }
   ],
   "source": [
    "a_df = df.loc[df['City']=='City']\n",
    "a_Home= df.loc[df['Product line']=='Fashion accessories']\n",
    "a_Home1 = pd.pivot_table(a_Home, values='Quantity', index=['Date'],\n",
    "                    columns=['Gender'], aggfunc=np.sum)\n",
    "a_Home1"
   ]
  },
  {
   "cell_type": "code",
   "execution_count": 88,
   "id": "7605646d",
   "metadata": {},
   "outputs": [
    {
     "data": {
      "text/html": [
       "<div>\n",
       "<style scoped>\n",
       "    .dataframe tbody tr th:only-of-type {\n",
       "        vertical-align: middle;\n",
       "    }\n",
       "\n",
       "    .dataframe tbody tr th {\n",
       "        vertical-align: top;\n",
       "    }\n",
       "\n",
       "    .dataframe thead th {\n",
       "        text-align: right;\n",
       "    }\n",
       "</style>\n",
       "<table border=\"1\" class=\"dataframe\">\n",
       "  <thead>\n",
       "    <tr style=\"text-align: right;\">\n",
       "      <th>Gender</th>\n",
       "      <th>Female</th>\n",
       "      <th>Male</th>\n",
       "    </tr>\n",
       "    <tr>\n",
       "      <th>Date</th>\n",
       "      <th></th>\n",
       "      <th></th>\n",
       "    </tr>\n",
       "  </thead>\n",
       "  <tbody>\n",
       "    <tr>\n",
       "      <th>01-01-2019</th>\n",
       "      <td>20.0</td>\n",
       "      <td>6.0</td>\n",
       "    </tr>\n",
       "    <tr>\n",
       "      <th>01-02-2019</th>\n",
       "      <td>8.0</td>\n",
       "      <td>7.0</td>\n",
       "    </tr>\n",
       "    <tr>\n",
       "      <th>01-03-2019</th>\n",
       "      <td>NaN</td>\n",
       "      <td>1.0</td>\n",
       "    </tr>\n",
       "    <tr>\n",
       "      <th>01-04-2019</th>\n",
       "      <td>NaN</td>\n",
       "      <td>3.0</td>\n",
       "    </tr>\n",
       "    <tr>\n",
       "      <th>01-06-2019</th>\n",
       "      <td>1.0</td>\n",
       "      <td>4.0</td>\n",
       "    </tr>\n",
       "    <tr>\n",
       "      <th>...</th>\n",
       "      <td>...</td>\n",
       "      <td>...</td>\n",
       "    </tr>\n",
       "    <tr>\n",
       "      <th>3/24/2019</th>\n",
       "      <td>5.0</td>\n",
       "      <td>5.0</td>\n",
       "    </tr>\n",
       "    <tr>\n",
       "      <th>3/25/2019</th>\n",
       "      <td>2.0</td>\n",
       "      <td>NaN</td>\n",
       "    </tr>\n",
       "    <tr>\n",
       "      <th>3/26/2019</th>\n",
       "      <td>1.0</td>\n",
       "      <td>NaN</td>\n",
       "    </tr>\n",
       "    <tr>\n",
       "      <th>3/27/2019</th>\n",
       "      <td>NaN</td>\n",
       "      <td>6.0</td>\n",
       "    </tr>\n",
       "    <tr>\n",
       "      <th>3/30/2019</th>\n",
       "      <td>12.0</td>\n",
       "      <td>NaN</td>\n",
       "    </tr>\n",
       "  </tbody>\n",
       "</table>\n",
       "<p>78 rows × 2 columns</p>\n",
       "</div>"
      ],
      "text/plain": [
       "Gender      Female  Male\n",
       "Date                    \n",
       "01-01-2019    20.0   6.0\n",
       "01-02-2019     8.0   7.0\n",
       "01-03-2019     NaN   1.0\n",
       "01-04-2019     NaN   3.0\n",
       "01-06-2019     1.0   4.0\n",
       "...            ...   ...\n",
       "3/24/2019      5.0   5.0\n",
       "3/25/2019      2.0   NaN\n",
       "3/26/2019      1.0   NaN\n",
       "3/27/2019      NaN   6.0\n",
       "3/30/2019     12.0   NaN\n",
       "\n",
       "[78 rows x 2 columns]"
      ]
     },
     "execution_count": 88,
     "metadata": {},
     "output_type": "execute_result"
    }
   ],
   "source": [
    "a_df = df.loc[df['City']=='City']\n",
    "a_Home= df.loc[df['Product line']=='Sports and travel']\n",
    "a_Home1 = pd.pivot_table(a_Home, values='Quantity', index=['Date'],\n",
    "                    columns=['Gender'], aggfunc=np.sum)\n",
    "a_Home1"
   ]
  },
  {
   "cell_type": "markdown",
   "id": "e791f55c",
   "metadata": {},
   "source": [
    "### 16)Conclusion\n",
    "- customer shows less interest in membership in some city on another we observe good support to membership customer type.\n",
    "- Fashion accessories has growth in product line and health and beauty trails the range of product.\n",
    "- Product line and gender wise scope of product which shows female has highest product offer is of home and lifestyle,and male section shows health and beauty as highest range of products"
   ]
  },
  {
   "cell_type": "code",
   "execution_count": null,
   "id": "46ab3c54",
   "metadata": {},
   "outputs": [],
   "source": []
  }
 ],
 "metadata": {
  "kernelspec": {
   "display_name": "Python 3 (ipykernel)",
   "language": "python",
   "name": "python3"
  },
  "language_info": {
   "codemirror_mode": {
    "name": "ipython",
    "version": 3
   },
   "file_extension": ".py",
   "mimetype": "text/x-python",
   "name": "python",
   "nbconvert_exporter": "python",
   "pygments_lexer": "ipython3",
   "version": "3.9.12"
  }
 },
 "nbformat": 4,
 "nbformat_minor": 5
}
